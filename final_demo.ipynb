{
 "cells": [
  {
   "cell_type": "markdown",
   "id": "e100ac76-f4f8-4455-aab6-e4ea76c0f9c7",
   "metadata": {},
   "source": [
    "# Using TGNLP to Create Features for Model Training\n",
    "## Author: Primrose Johns\n",
    "Hello! In this guide, I will be demoing some of the useful features of a library I collaborate on (TGNLP).  Hopefully, this will help you to consider how TGNLP could be useful for your own projects.<br>\n",
    "I will also be including information that will help someone proficient in Python but no with machine learning experience specifically. I hope you learn something new!<br>\n",
    "I have formatted this guide into a list of steps, mostly because that's how I'm used to writing ML Jupyter Notebooks. Here's an overview of what I'll be covering:<br>\n",
    "* Step 0: Loading in the dataset we want to train our classifier on.\n",
    "* Step 1: Preprocessing the data before it goes into our graph generator (plus some pandas tips/tricks).\n",
    "* Step 2: Turning our text data into a graph.\n",
    "* Step 3: Turning our graph data into feature data (a matrix).\n",
    "* Step 4: Dimensionality Reduction.\n",
    "* Step 5: Model training and results.\n",
    "* Step 6: Final results and Conclusion.\n",
    "\n",
    "I hope you learn something new!"
   ]
  },
  {
   "cell_type": "code",
   "execution_count": 125,
   "id": "0088ee70-9226-402a-bdf5-0ff5c99461ac",
   "metadata": {},
   "outputs": [],
   "source": [
    "import TGNLP as tgnlp\n",
    "import networkx as nx\n",
    "\n",
    "import pandas as pd\n",
    "import numpy as np\n",
    "import matplotlib.pyplot as plt\n",
    "\n",
    "import re\n",
    "import pickle\n",
    "\n",
    "from sklearn.model_selection import train_test_split, GridSearchCV, cross_val_score\n",
    "from sklearn.svm import SVC\n",
    "from sklearn.ensemble import RandomForestClassifier\n",
    "from sklearn.metrics import classification_report\n",
    "from sklearn.decomposition import PCA\n",
    "from sklearn.manifold import TSNE\n",
    "from sklearn.dummy import DummyClassifier\n",
    "\n",
    "from scipy.sparse import lil_matrix, csr_matrix"
   ]
  },
  {
   "cell_type": "markdown",
   "id": "1aa12088-580b-4347-b307-38a0b45bed3e",
   "metadata": {},
   "source": [
    "# Step 0: Load the Data\n",
    "I will be using [this Kaggle dataset.](https://www.kaggle.com/datasets/clmentbisaillon/fake-and-real-news-dataset) The provided data is in two files, with each file containing the text of news articles. One file contains the text of fake news stories, and the other contains the text of real news stories. We will be creating a text classifier that can (hopefully) distinguish between the two. In this case we're downloading the kaggle-provided files manually, but it is possible to load the data from kaggle using an API call. Feel free to scroll down to the code block while reading this portion, to help you form a better idea of what's being described.\n",
    "\n",
    "# Step 1: Preprocess the data\n",
    "We're going to want to clean our data by removing any text entires that could negatively affect training. In our case, we will remove blank entries or entries that contain urls. We'll do this by making a function called `parse_data()`. This function takes a file path to a .csv file and a label as input, and will produce a pandas DataFrame object as output. If you're unfamiliar, a Pandas DataFrame is a kind of 2d storage object; its similar to a 2d array but it can change size like a linked list. It can also have columns and row names built in, rather than just having indexes.<br>\n",
    "We will store the text of the articles in one column, and the label (true or false) in the other column. The provided dataset also has other information we won't use, so we remove that by overwriting the original data with a copy that only contains the \"text\" column. We do this using \n",
    "```\n",
    "df = df[[\"text\"]]\n",
    "```\n",
    "Even though our data is already seperated into true and false, we still need a labels column in our dataframe. This is because we're going to combine all the true and false articles together into one big database, and so we'll need to keep track of which is which.<br>\n",
    "You can also see a line toward the bottom of `parse_data()` that reads:\n",
    "```\n",
    "df = df[df.apply(is_valid, axis=1)]\n",
    "```\n",
    "Let's break this line down. `df = df[...]` means that we are overwriting `df` with a version of itself that has had a mask applied. for example, if the DataFrame has three rows, and the mask you provide (where the ... is) is a list `[True, False, True]`, only the first and last rows will be kept. We are generating this true/false mask using `df.apply()`, which will go row-by-row (it would be column-by-column if `axis = 0`) and apply a provided function to its contents. If that function returns true when given a row as input, then that row's mask entry will be true (and it will be kept in the database). In our case, the function provided is called `is_valid()`. This function extracts the \"text\" column (which contains a string) in the row provided and checks if that string contains a url, is empty, or is a single space. So, in practice, this one line of code overwrites the DataFrame `df` with a new version that has had some rows removed. The removed rows were any that contained text entries that failed the `is_valid()` check."
   ]
  },
  {
   "cell_type": "code",
   "execution_count": 93,
   "id": "75fc9bef-46fb-499e-9db8-2bf6564516ba",
   "metadata": {},
   "outputs": [],
   "source": [
    "#This function removes entries that are urls, empty, or a single space\n",
    "def is_valid(row):\n",
    "  s = row[\"text\"]\n",
    "  if re.search(\"https\", s) is None and s != \"\" and s != \" \":\n",
    "    return True\n",
    "  else:\n",
    "    return False\n",
    "\n",
    "#This loads the csv data and uses is_valid to trim bogus entries\n",
    "def parse_data(path, label):\n",
    "  df = pd.read_csv(path)\n",
    "  df = df[[\"text\"]]\n",
    "  df = df[df.apply(is_valid, axis=1)]\n",
    "  df[\"label\"] = label\n",
    "  return df"
   ]
  },
  {
   "cell_type": "markdown",
   "id": "049a03db-0d6d-4cc3-8e57-341b3a69b2c0",
   "metadata": {},
   "source": [
    "Now that we have our functions defined, we can use them to create our preprocessed dataset. We will also combine the fake and true datasets together, which we will shuffle and split in the next step."
   ]
  },
  {
   "cell_type": "code",
   "execution_count": 157,
   "id": "2e07a26f-3f50-4e22-8cff-60d92010e992",
   "metadata": {},
   "outputs": [
    {
     "name": "stdout",
     "output_type": "stream",
     "text": [
      "(40971, 2)\n"
     ]
    },
    {
     "data": {
      "text/html": [
       "<div>\n",
       "<style scoped>\n",
       "    .dataframe tbody tr th:only-of-type {\n",
       "        vertical-align: middle;\n",
       "    }\n",
       "\n",
       "    .dataframe tbody tr th {\n",
       "        vertical-align: top;\n",
       "    }\n",
       "\n",
       "    .dataframe thead th {\n",
       "        text-align: right;\n",
       "    }\n",
       "</style>\n",
       "<table border=\"1\" class=\"dataframe\">\n",
       "  <thead>\n",
       "    <tr style=\"text-align: right;\">\n",
       "      <th></th>\n",
       "      <th>text</th>\n",
       "      <th>label</th>\n",
       "    </tr>\n",
       "  </thead>\n",
       "  <tbody>\n",
       "    <tr>\n",
       "      <th>0</th>\n",
       "      <td>Donald Trump just couldn t wish all Americans ...</td>\n",
       "      <td>0</td>\n",
       "    </tr>\n",
       "    <tr>\n",
       "      <th>1</th>\n",
       "      <td>House Intelligence Committee Chairman Devin Nu...</td>\n",
       "      <td>0</td>\n",
       "    </tr>\n",
       "    <tr>\n",
       "      <th>2</th>\n",
       "      <td>Pope Francis used his annual Christmas Day mes...</td>\n",
       "      <td>0</td>\n",
       "    </tr>\n",
       "    <tr>\n",
       "      <th>3</th>\n",
       "      <td>The number of cases of cops brutalizing and ki...</td>\n",
       "      <td>0</td>\n",
       "    </tr>\n",
       "    <tr>\n",
       "      <th>4</th>\n",
       "      <td>Donald Trump spent a good portion of his day a...</td>\n",
       "      <td>0</td>\n",
       "    </tr>\n",
       "  </tbody>\n",
       "</table>\n",
       "</div>"
      ],
      "text/plain": [
       "                                                text  label\n",
       "0  Donald Trump just couldn t wish all Americans ...      0\n",
       "1  House Intelligence Committee Chairman Devin Nu...      0\n",
       "2  Pope Francis used his annual Christmas Day mes...      0\n",
       "3  The number of cases of cops brutalizing and ki...      0\n",
       "4  Donald Trump spent a good portion of his day a...      0"
      ]
     },
     "execution_count": 157,
     "metadata": {},
     "output_type": "execute_result"
    }
   ],
   "source": [
    "#Here we use the previous functions to load the data\n",
    "fake_df = parse_data(\"Fake.csv\", 0)\n",
    "real_df = parse_data(\"True.csv\", 1)\n",
    "#Now we'll concatenate our data together\n",
    "raw_df = pd.concat([fake_df, real_df], ignore_index=True, sort=False)\n",
    "#This will show us the first 5 entries\n",
    "print(raw_df.shape)\n",
    "raw_df[:5]"
   ]
  },
  {
   "cell_type": "markdown",
   "id": "54b2f49e-a7ec-4763-84fd-ffe68b355622",
   "metadata": {},
   "source": [
    "Here we can see the first few entries our new dataset! Its been formatted into two columns and trimmed down to 40,971 rows. The original dataset had 44,919 samples, so we can see that around 4,000 articles have been removed. We can also see that all of the first five samples are in the \"false\" category, and this is no coincidence. We still need to shuffle the data, and partition it into a training set and a testing set. Conveniently, the sci-kit learn library has a function `train_test_split()` that will shuffle and split our data for us.<br><br>\n",
    "Side note:<br>This split is a fundamentally important part of machine learning. We need to ensure that the model we create will make accurate predictions on new data, and so not using some of our data for training is neccessary to simulate that \"newness\" when we move on from training to testing."
   ]
  },
  {
   "cell_type": "code",
   "execution_count": 95,
   "id": "f8fbd16e-f65a-46bb-8602-c8e0c38bdb88",
   "metadata": {},
   "outputs": [
    {
     "data": {
      "text/html": [
       "<div>\n",
       "<style scoped>\n",
       "    .dataframe tbody tr th:only-of-type {\n",
       "        vertical-align: middle;\n",
       "    }\n",
       "\n",
       "    .dataframe tbody tr th {\n",
       "        vertical-align: top;\n",
       "    }\n",
       "\n",
       "    .dataframe thead th {\n",
       "        text-align: right;\n",
       "    }\n",
       "</style>\n",
       "<table border=\"1\" class=\"dataframe\">\n",
       "  <thead>\n",
       "    <tr style=\"text-align: right;\">\n",
       "      <th></th>\n",
       "      <th>text</th>\n",
       "      <th>label</th>\n",
       "    </tr>\n",
       "  </thead>\n",
       "  <tbody>\n",
       "    <tr>\n",
       "      <th>0</th>\n",
       "      <td>WASHINGTON (Reuters) - Oklahoma Attorney Gener...</td>\n",
       "      <td>1</td>\n",
       "    </tr>\n",
       "    <tr>\n",
       "      <th>1</th>\n",
       "      <td>WASHINGTON (Reuters) - President Donald Trump ...</td>\n",
       "      <td>1</td>\n",
       "    </tr>\n",
       "    <tr>\n",
       "      <th>2</th>\n",
       "      <td>Not that the word  legal  means anything to ei...</td>\n",
       "      <td>0</td>\n",
       "    </tr>\n",
       "    <tr>\n",
       "      <th>3</th>\n",
       "      <td>Donald Trump s proposal to build a wall betwee...</td>\n",
       "      <td>0</td>\n",
       "    </tr>\n",
       "    <tr>\n",
       "      <th>4</th>\n",
       "      <td>Donald Trump has made it a point of his campai...</td>\n",
       "      <td>0</td>\n",
       "    </tr>\n",
       "  </tbody>\n",
       "</table>\n",
       "</div>"
      ],
      "text/plain": [
       "                                                text  label\n",
       "0  WASHINGTON (Reuters) - Oklahoma Attorney Gener...      1\n",
       "1  WASHINGTON (Reuters) - President Donald Trump ...      1\n",
       "2  Not that the word  legal  means anything to ei...      0\n",
       "3  Donald Trump s proposal to build a wall betwee...      0\n",
       "4  Donald Trump has made it a point of his campai...      0"
      ]
     },
     "execution_count": 95,
     "metadata": {},
     "output_type": "execute_result"
    }
   ],
   "source": [
    "train_raw, test_raw = train_test_split(raw_df, test_size = .1, random_state = 42)\n",
    "#train_raw = train_raw[:1000]\n",
    "train_raw.reset_index(drop=True, inplace=True)\n",
    "train_raw[:5]"
   ]
  },
  {
   "cell_type": "markdown",
   "id": "2e1ecb89-3995-4160-acdb-7630b60c282b",
   "metadata": {},
   "source": [
    "# Step 2: Turning the data into a sequential graph with TGNLP\n",
    "Finally, we are ready to start making graphs!<br>\n",
    "For this portion, we will use the [TGNLP library](https://pypi.org/project/TGNLP/). This library will allow us to make a simple graph from the text data we've collected. First, we will feed the \"text\" column of our Pandas DataFrame to the constructor for a `TGNLP.Corpus` object. Then, we will use that as the input to a graph generator. This will output a NetworkX graph, which is a library with some great tools for working with graphs. We will use the sequential graph for this problem, where words are nodes and edges represent how often two words are close to one another. We will also trim the graph, removing edges that are very small."
   ]
  },
  {
   "cell_type": "code",
   "execution_count": 96,
   "id": "fef863e1-2e81-470b-803f-9c43bedbb954",
   "metadata": {},
   "outputs": [],
   "source": [
    "#Create the corpus\n",
    "corpus = tgnlp.Corpus(train_raw[\"text\"])\n",
    "#Create sequential\n",
    "seq = tgnlp.get_sequential_graph(corpus)\n",
    "seq = tgnlp.trim_norm_graph(seq)"
   ]
  },
  {
   "cell_type": "code",
   "execution_count": 97,
   "id": "58af4f96-1f0d-4a4d-9241-10d50e629aeb",
   "metadata": {},
   "outputs": [
    {
     "name": "stdout",
     "output_type": "stream",
     "text": [
      "134451\n",
      "1514726\n"
     ]
    }
   ],
   "source": [
    "print(seq.number_of_nodes())\n",
    "print(seq.number_of_edges())"
   ]
  },
  {
   "cell_type": "markdown",
   "id": "f46f6ea0-b0ec-41e2-9167-2b7135616aa8",
   "metadata": {},
   "source": [
    "It's as easy as that! Our trimmed graph has 134,451 nodes (one for each word) and 1.5 million connections between those words. These edges are weighted, but we won't use that info for this approach.\n",
    "# Step 3: Turning our Graph Data Into Feature Data \n",
    "Now that TGNLP has processed our text data into graph data, we just need to turn that graph data into features that can be represented as a matrix so that we can use it for training.<br>\n",
    "To do this, there are many options we could pursue. We will just be focusing on options where each word is a feature, so the matrix has a width the size of the total wordcount and the height is the number of training samples. If a word is not present in a particular sample, its value will be 0 (similar to one-hot encoding). If the word is present in the sample, we will represent it with some metric. This configuration will create a 134,451 by 40,971 matrix, which is quite large. We will be using a sparse matrix to save space, which I will go into more detail about later in this guide.<br>\n",
    "In this configuration, there are several candidates for what metric we could use. We could store the cetrality of each node in the sample, with NetworkX offering a total of 43 centrality measure to choose from. We could use a clustering algorithm, and represent each word in a sample with its community. However, this would require one-hot encoding to be done correctly, which would increase the size of our training matrix dramatically.<br>\n",
    "We will instead use an even simpler metric than the ones we've just dicussed, which we'll call subgraph degree. Each present word in a sample will simply be represented by the number of connections that it has to other words in the same sample (an induced sugraph). Let's write the code to create our subgraph degree feature data.<br><br>\n",
    "Note: We are switching from a DataFrame to a matrix here, even though in theory we could continue using a DataFrame. This is because the resulting dataset is going to be downright huge, and matrices can be customized to be highly space efficient.\n",
    "\n",
    "## 3a: Creating the column dictionary\n",
    "Matrices, unlike DataFrames, do not have column labels. So, we'll need our own way to keep track of which column correlates to which word. We will do this using a simple dictionary, where we can use each word as a key to lookup its column. Since each node in the networkx graph is a word, we will just iterate through the nodes to account for every word."
   ]
  },
  {
   "cell_type": "code",
   "execution_count": 98,
   "id": "b050c813-36f6-46d6-bfb2-2a4ec57062cb",
   "metadata": {},
   "outputs": [],
   "source": [
    "#this dictionary will help us keep track of which column maps to which word\n",
    "def column_dict(G):\n",
    "  count = 0\n",
    "  cref = {}\n",
    "  for node in G.nodes:\n",
    "    cref[node] = count\n",
    "    count +=1\n",
    "  return cref"
   ]
  },
  {
   "cell_type": "markdown",
   "id": "3d29dacf-6ff0-4aea-a236-c4b690e77fef",
   "metadata": {},
   "source": [
    "## 3b: Create our Feature Matrix\n",
    "First, will use the function that we just made above to create our column lookup dict. The purpose of this was discussed in the section above.<br>\n",
    "Next we will declare our sparse matrix, which are more space effecient when most of the values in the matrix are 0. We can assume this will be the case, since even very long news articles are unlikely to have even half of the 134k total unique words. Even while sparse, this matrix will be very large, so we'll be using unsigned short ints instead of regular ints. If this were a dense matrix, even using short ints the resulting object would be more than 11gb in size!<br>\n",
    "The big loop is the last part of our function. We go row by row in our training data, and grab a list of all the unique words in each sample. Since we already have tgnlp imported, we can just use one of their internal functions to get a list of words without whitespace, numbers, of punctuation. Then, we can cast the list as a set, which removes duplicates, and finally cast it back to being a list to get our list of unique words.<br>\n",
    "We also want to work with a subgraph of only the words in this sample. By doing this, each node's degree represents a word's connections with other words in that sample. If we used the full graph, which is more efficient, node degree would be representing connections accross all the samples in or training data.<br>\n",
    "Finally, we go through every word in the sample. If a word isn't in our subgraph (see note), we ignore it. If it is in the subgraph, we find its degree and record that in our matrix.<br>\n",
    "Finally, we return our new sparse matrix! Now we just need to call this function, and we should be ready to move on to model training.<br><br>\n",
    "Note: The reason why we check if the word we're looking at is in the subgraph is to account for new samples outside our training data that have new unique words. Since those words don't be nodes in the graph we made with our training data, they won't have a column assigned for them in the matrix and will need to be skipped."
   ]
  },
  {
   "cell_type": "code",
   "execution_count": 99,
   "id": "88d729f2-fe30-4a23-8890-3583e102b82b",
   "metadata": {},
   "outputs": [],
   "source": [
    "#data is the traing dataframe, G is the big graph, and cref is the column lookup\n",
    "def pop_sparse(data, G):\n",
    "  cref = column_dict(G)\n",
    "  #print(\"function start\")\n",
    "  #np.ushort is 2-byte unsigned int\n",
    "  sparse = lil_matrix((data.shape[0], G.number_of_nodes()), dtype=np.ushort)\n",
    "\n",
    "  #print(\"matrix and labels objects created\")\n",
    "  #for each row in the dataframe\n",
    "  for index, row in data.iterrows():\n",
    "    word_list = list(set(tgnlp.data_to_corpus(row[\"text\"], corpus_type='word')))\n",
    "    g = nx.induced_subgraph(G, word_list)\n",
    "    for node in word_list:\n",
    "      if g.has_node(node) == False:\n",
    "        continue\n",
    "      #print(node)\n",
    "      degree = g.degree(node)\n",
    "      #print(degree)\n",
    "      column = cref[node]\n",
    "      #print(index, column, sep=\" \")\n",
    "      sparse[index, column] = degree\n",
    "      #print(\"sparse assgn\")\n",
    "  return sparse"
   ]
  },
  {
   "cell_type": "code",
   "execution_count": 17,
   "id": "7f44a29a-f7ab-4c8c-b7d9-d470a1d4fd4f",
   "metadata": {},
   "outputs": [],
   "source": [
    "train_mat = pop_sparse(train_raw, seq)"
   ]
  },
  {
   "cell_type": "markdown",
   "id": "aa3a356e-38be-40be-ace6-caf21d5dfc6e",
   "metadata": {},
   "source": [
    "All done!<br>\n",
    "This took my machine several hours to complete, however I did it sequentially on a $250 home server. Since I suspect anyone who tries this will be operating under similar constraints, you should consider pickling your output. pickle is a built-in python library that can turn any object into a file, so if you perform a big experiment like this and get a big output (like a massive matrix) you can save it for later without worrying about it being deleted from memory when your runtime ends."
   ]
  },
  {
   "cell_type": "code",
   "execution_count": 19,
   "id": "5b56b1d4-582f-4a18-bd9d-2a9dad08acab",
   "metadata": {},
   "outputs": [],
   "source": [
    "#this code stores out big matrix as a file, so that it can be saved even when the current runtime ends\n",
    "output = open('sparse.pkl', 'wb')\n",
    "pickle.dump(train_mat, output)\n",
    "output.close()"
   ]
  },
  {
   "cell_type": "markdown",
   "id": "b0e853a1-2a91-449f-8e7e-30a1429103fe",
   "metadata": {},
   "source": [
    "Alright, now to load the data back in from the file. I need to do this, since I actually did restart the runtime of my notebook here. I'll also convert our lil_matrix to a csr_matrix, since that's what our ML library expects as input"
   ]
  },
  {
   "cell_type": "code",
   "execution_count": 23,
   "id": "156cde94-901f-4778-937e-e091e8d8956f",
   "metadata": {},
   "outputs": [],
   "source": [
    "#This code loads the big matrix\n",
    "file = open('sparse.pkl', 'rb')\n",
    "exp_mat = pickle.load(file).tocsr()\n",
    "file.close()"
   ]
  },
  {
   "cell_type": "markdown",
   "id": "90cc0a54-0b68-4f5e-a054-ecb9679c5f21",
   "metadata": {},
   "source": [
    "Now our matrix is loaded in, and ready for us to use!\n",
    "# Step 4: Dimensionality reduction\n",
    "As I've mentioned before, this approach creates a **lot** of data for us to use. This will dramatically increase the time to train a model. To help alleviate this issue, we will use dimensionality reduction. Dimensionality reduction is, to put it simply, a way to turn big datasets into smaller datasets that are almost as useful as the big datasets. Common uses of dimensionality reduction include faster model training (because the dataset is smaller) and visualization (to make the data fit neatly into a 2D grid). We will be doing both here.\n",
    "## 4a: Data Visualition using TSNE\n",
    "TSNE is a type of reduction normally used to convert large, complex data into 2D or 3D data so that it can be plotted. Its very simple to use, so lets use it to get a look at our data. We're also only going to use 1000 samples here for the plot itself, since there's really no way to make a 40k-point scatter plot look good."
   ]
  },
  {
   "cell_type": "code",
   "execution_count": 27,
   "id": "2bcf6705-88d2-40fc-82c5-0a26fda2d72e",
   "metadata": {},
   "outputs": [],
   "source": [
    "#I'm literally copying this part directly from the sklearn documentation lol\n",
    "data_vis = TSNE(n_components=2, learning_rate='auto',\n",
    "\n",
    "                  init='random', perplexity=3, n_jobs = -1).fit_transform(exp_mat)"
   ]
  },
  {
   "cell_type": "code",
   "execution_count": 159,
   "id": "60830be3-60d4-40d8-8e0e-6fc8609dc594",
   "metadata": {},
   "outputs": [
    {
     "data": {
      "image/png": "[encoded data removed]",
      "text/plain": [
       "<Figure size 640x480 with 1 Axes>"
      ]
     },
     "metadata": {},
     "output_type": "display_data"
    }
   ],
   "source": [
    "plt.scatter(data_vis[:1000, 0], data_vis[:1000, 1])\n",
    "plt.savefig(\"clustering-fake-real-no-color.png\")\n",
    "plt.show()"
   ]
  },
  {
   "cell_type": "markdown",
   "id": "2f0a8da4-97a3-4696-bc72-682bec1f26a1",
   "metadata": {},
   "source": [
    "Well that sure is a big, useless blob!<br>\n",
    "What we need to do to make this readable is to change the color of the dots to distinguish between fake and real news stories."
   ]
  },
  {
   "cell_type": "code",
   "execution_count": 158,
   "id": "a6b2aa0c-109d-4610-a4fb-203acae54f91",
   "metadata": {},
   "outputs": [
    {
     "data": {
      "image/png": "[encoded data removed]",
      "text/plain": [
       "<Figure size 640x480 with 1 Axes>"
      ]
     },
     "metadata": {},
     "output_type": "display_data"
    }
   ],
   "source": [
    "#make a new dataset for this vis\n",
    "vis = pd.DataFrame(data_vis)\n",
    "vis = pd.concat([vis, train_raw[\"label\"]], axis=1, ignore_index=True, sort=False)\n",
    "vis.columns = [\"x\", \"y\", \"label\"]\n",
    "#plot the false set\n",
    "plt.scatter(data=vis[vis[\"label\"] == 0][:500], x = \"x\", y = \"y\", color=\"red\")\n",
    "#plot the true set\n",
    "plt.scatter(data=vis[vis[\"label\"] == 1][:500],  x = \"x\", y = \"y\", color=\"green\")\n",
    "\n",
    "#formatting/title setting\n",
    "plt.title(\"Clustering of Fake News Stories and Real News Stories\")\n",
    "plt.legend([\"Fake News\", \"Real News\"])\n",
    "plt.tick_params(left = False, labelleft = False, labelbottom = False, bottom = False) \n",
    "plt.tight_layout()\n",
    "plt.savefig(\"clustering-fake-real.png\")\n",
    "plt.show()"
   ]
  },
  {
   "cell_type": "markdown",
   "id": "c47f9c7d-f371-452c-ab91-adeab88a7919",
   "metadata": {},
   "source": [
    "This tells us much more information! Notably, there appears to be strong clustering of both fake and real news stories, at least based on the first 500 samples of each type of article. With a trend this clear with just 2 features, it seems reasonable to assume that dimensionality reduction should be able to simplify our data accurately for model training as well!\n",
    "\n",
    "## 4b: Dimensionality Reduction Using PCA\n",
    "To get a simplified dataset for model training instead of visualization, we're going to use PCA. PCA is a common choice for this kind of task, it can take a sparse matrix as input, and it has the convient ability to reduce the data as a function of variance instead of the number of components. That means that we can tell PCA that we want the simplest dataset it can make while still being x% accurate to the original data. Unfortunately, this feature isn't availible when reducing sparse data, so we'll have to run it with a few different n_components values and see what kind of explained variance we can get. We probably don't want to go above 500 features, and preferably we should stay below 200. Lets try out a range between those two values.<br>"
   ]
  },
  {
   "cell_type": "code",
   "execution_count": 81,
   "id": "a4615606-524e-49be-b018-dbd01c752399",
   "metadata": {},
   "outputs": [
    {
     "name": "stdout",
     "output_type": "stream",
     "text": [
      "Number of Components: 250\n",
      "Total exlained variance: 0.9044953127159896\n",
      "Number of Components: 300\n",
      "Total exlained variance: 0.908461295499216\n",
      "Number of Components: 350\n",
      "Total exlained variance: 0.9119255542088498\n",
      "Number of Components: 400\n",
      "Total exlained variance: 0.9150269445064977\n",
      "Number of Components: 450\n",
      "Total exlained variance: 0.9178444522792206\n",
      "Number of Components: 500\n",
      "Total exlained variance: 0.9204230040893924\n"
     ]
    }
   ],
   "source": [
    "for i in [250, 300, 350, 400, 450, 500]:\n",
    "    pca = PCA(n_components = i, random_state = 42)\n",
    "    train_reduced = pca.fit_transform(exp_mat)\n",
    "    print(f\"Number of Components: {i}\\nTotal exlained variance: {sum(pca.explained_variance_ratio_)}\")"
   ]
  },
  {
   "cell_type": "markdown",
   "id": "a1672a04-f5c7-49b5-aa16-f7314b737839",
   "metadata": {},
   "source": [
    "Here, we can see that we seem to be getting diminishing returns on very large datasets. Still, 90% is quite good. Let's try a range of smaller numbers of components and see how those perform."
   ]
  },
  {
   "cell_type": "code",
   "execution_count": 82,
   "id": "724ac970-f80c-4dc2-84e5-003f29c7e766",
   "metadata": {},
   "outputs": [
    {
     "name": "stdout",
     "output_type": "stream",
     "text": [
      "Number of Components: 20\n",
      "Total exlained variance: 0.8652734611898522\n",
      "Number of Components: 50\n",
      "Total exlained variance: 0.8773158694484345\n",
      "Number of Components: 100\n",
      "Total exlained variance: 0.8874180315983584\n",
      "Number of Components: 150\n",
      "Total exlained variance: 0.8943674480185655\n",
      "Number of Components: 200\n",
      "Total exlained variance: 0.8998787599772679\n"
     ]
    }
   ],
   "source": [
    "for i in [20, 50, 100, 150, 200]:\n",
    "    pca = PCA(n_components = i, random_state = 42)\n",
    "    train_reduced = pca.fit_transform(exp_mat)\n",
    "    print(f\"Number of Components: {i}\\nTotal exlained variance: {sum(pca.explained_variance_ratio_)}\")"
   ]
  },
  {
   "cell_type": "markdown",
   "id": "5f6b88d4-d4a7-4554-91fa-905335ca8998",
   "metadata": {},
   "source": [
    "Wow, the difference between 20 features and 250 features is an explained variance of only ~4%! Let's work with the 20-feature dataset for now, and see how well our model performs.<br><br>\n",
    "Note: PCA outputs a dense numpy array, not a sparse matrix. However, Since the data is so much smaller, that will work fine."
   ]
  },
  {
   "cell_type": "code",
   "execution_count": 83,
   "id": "658e84c3-7803-4569-b73f-4b1b38199f15",
   "metadata": {},
   "outputs": [],
   "source": [
    "pca_20 = PCA(n_components = 20, random_state = 42)\n",
    "train_reduced = pca_20.fit_transform(exp_mat)"
   ]
  },
  {
   "cell_type": "markdown",
   "id": "4a494f32-be74-44c8-90a2-4ec5bb20d97a",
   "metadata": {},
   "source": [
    "# Step 5: Model Training\n",
    "We've made our feature data from our initial input, and we've reduced it down to a very managable size. Now, let's train some models on our data. We will be training two models, a random forest and an SVC. An explanation of what these models are and how they work is outside of the scope of this guide, but if you're interested in the subject I highly reccomend \"Hands-On Machine Learning with Scikit-Learn, Keras, and TensorFlow\" by Aurélien Géron\n",
    "\n",
    "## 5a: Using a Random Forrest to detect fake news stories\n",
    "Here we're going to use sci-kit learn's cross_val_score() function, which will tell us how accurate out of 100% our model is when its trained on different portions of the training data."
   ]
  },
  {
   "cell_type": "code",
   "execution_count": 91,
   "id": "3c6e000c-889e-48f3-9c36-f7b444bb6e4f",
   "metadata": {},
   "outputs": [
    {
     "data": {
      "text/plain": [
       "array([0.95254237, 0.95484746, 0.95254237, 0.95077299, 0.95023054])"
      ]
     },
     "execution_count": 91,
     "metadata": {},
     "output_type": "execute_result"
    }
   ],
   "source": [
    "rfc = RandomForestClassifier(max_depth = 10, n_jobs = -1, random_state = 42)\n",
    "scores = cross_val_score(rfc, train_reduced, train_raw[\"label\"], cv=5)\n",
    "scores"
   ]
  },
  {
   "cell_type": "markdown",
   "id": "10f6779f-c10d-4d2a-af49-6bf8685572ca",
   "metadata": {},
   "source": [
    "95% accurate! These are promising results<br>\n",
    "Now let's train the model on the the entire training dataset, and then test it against the testing dataset! We'll need to peform the same data transformations on our test data that we did on our training data for this, so that its also in a reduced 20-feature format."
   ]
  },
  {
   "cell_type": "code",
   "execution_count": 104,
   "id": "48578f99-1840-481c-bd23-31eeb9c4f11e",
   "metadata": {},
   "outputs": [],
   "source": [
    "#Create a matrix out of our test data (using the graph we made with the train data)\n",
    "test_raw.reset_index(drop=True, inplace=True)\n",
    "test_mat = pop_sparse(test_raw, seq)"
   ]
  },
  {
   "cell_type": "code",
   "execution_count": 108,
   "id": "b00ccb41-4627-4f74-b8ad-b7fe1116771a",
   "metadata": {},
   "outputs": [],
   "source": [
    "#Reduce our dataset using the pca object we fit to the training data \n",
    "test_reduced = pca_20.transform(test_mat)"
   ]
  },
  {
   "cell_type": "code",
   "execution_count": 110,
   "id": "9ebab863-d02e-4a26-a551-09e57568dbb2",
   "metadata": {},
   "outputs": [
    {
     "name": "stdout",
     "output_type": "stream",
     "text": [
      "              precision    recall  f1-score   support\n",
      "\n",
      "           0       0.98      0.94      0.95      1962\n",
      "           1       0.94      0.98      0.96      2136\n",
      "\n",
      "    accuracy                           0.96      4098\n",
      "   macro avg       0.96      0.96      0.96      4098\n",
      "weighted avg       0.96      0.96      0.96      4098\n",
      "\n"
     ]
    }
   ],
   "source": [
    "#train the model on the training data\n",
    "rfc.fit(train_reduced, train_raw[\"label\"])\n",
    "#predict labels for our test data\n",
    "test_pred = rfc.predict(test_reduced)\n",
    "print(classification_report(test_raw[\"label\"], test_pred))"
   ]
  },
  {
   "cell_type": "markdown",
   "id": "2e96d835-618c-4571-91f7-961a9341d87b",
   "metadata": {},
   "source": [
    "96% accurate, and thanks to our dimensionality reduction it runs fast as well! The slowest part is populating the sparse matrix, but even that takes no more than a few seconds for a single article. Now let's try another model, an SVC.\n",
    "\n",
    "## 5b: Using an SVC to predict fake news stories\n",
    "SVC's can be a little more complex to configure than a random forrest, so for this we'll use GridSearchCV. GridSearchCV allows us to automate the process of testing the accuracy of different configurations of a provided model, in this case an SVC. Let's try out some combinations and see which one performs best."
   ]
  },
  {
   "cell_type": "code",
   "execution_count": 119,
   "id": "d515389d-4c84-450b-b0c9-d3806652607e",
   "metadata": {},
   "outputs": [
    {
     "data": {
      "text/html": [
       "<style>#sk-container-id-2 {\n",
       "  /* Definition of color scheme common for light and dark mode */\n",
       "  --sklearn-color-text: black;\n",
       "  --sklearn-color-line: gray;\n",
       "  /* Definition of color scheme for unfitted estimators */\n",
       "  --sklearn-color-unfitted-level-0: #fff5e6;\n",
       "  --sklearn-color-unfitted-level-1: #f6e4d2;\n",
       "  --sklearn-color-unfitted-level-2: #ffe0b3;\n",
       "  --sklearn-color-unfitted-level-3: chocolate;\n",
       "  /* Definition of color scheme for fitted estimators */\n",
       "  --sklearn-color-fitted-level-0: #f0f8ff;\n",
       "  --sklearn-color-fitted-level-1: #d4ebff;\n",
       "  --sklearn-color-fitted-level-2: #b3dbfd;\n",
       "  --sklearn-color-fitted-level-3: cornflowerblue;\n",
       "\n",
       "  /* Specific color for light theme */\n",
       "  --sklearn-color-text-on-default-background: var(--sg-text-color, var(--theme-code-foreground, var(--jp-content-font-color1, black)));\n",
       "  --sklearn-color-background: var(--sg-background-color, var(--theme-background, var(--jp-layout-color0, white)));\n",
       "  --sklearn-color-border-box: var(--sg-text-color, var(--theme-code-foreground, var(--jp-content-font-color1, black)));\n",
       "  --sklearn-color-icon: #696969;\n",
       "\n",
       "  @media (prefers-color-scheme: dark) {\n",
       "    /* Redefinition of color scheme for dark theme */\n",
       "    --sklearn-color-text-on-default-background: var(--sg-text-color, var(--theme-code-foreground, var(--jp-content-font-color1, white)));\n",
       "    --sklearn-color-background: var(--sg-background-color, var(--theme-background, var(--jp-layout-color0, #111)));\n",
       "    --sklearn-color-border-box: var(--sg-text-color, var(--theme-code-foreground, var(--jp-content-font-color1, white)));\n",
       "    --sklearn-color-icon: #878787;\n",
       "  }\n",
       "}\n",
       "\n",
       "#sk-container-id-2 {\n",
       "  color: var(--sklearn-color-text);\n",
       "}\n",
       "\n",
       "#sk-container-id-2 pre {\n",
       "  padding: 0;\n",
       "}\n",
       "\n",
       "#sk-container-id-2 input.sk-hidden--visually {\n",
       "  border: 0;\n",
       "  clip: rect(1px 1px 1px 1px);\n",
       "  clip: rect(1px, 1px, 1px, 1px);\n",
       "  height: 1px;\n",
       "  margin: -1px;\n",
       "  overflow: hidden;\n",
       "  padding: 0;\n",
       "  position: absolute;\n",
       "  width: 1px;\n",
       "}\n",
       "\n",
       "#sk-container-id-2 div.sk-dashed-wrapped {\n",
       "  border: 1px dashed var(--sklearn-color-line);\n",
       "  margin: 0 0.4em 0.5em 0.4em;\n",
       "  box-sizing: border-box;\n",
       "  padding-bottom: 0.4em;\n",
       "  background-color: var(--sklearn-color-background);\n",
       "}\n",
       "\n",
       "#sk-container-id-2 div.sk-container {\n",
       "  /* jupyter's `normalize.less` sets `[hidden] { display: none; }`\n",
       "     but bootstrap.min.css set `[hidden] { display: none !important; }`\n",
       "     so we also need the `!important` here to be able to override the\n",
       "     default hidden behavior on the sphinx rendered scikit-learn.org.\n",
       "     See: https://github.com/scikit-learn/scikit-learn/issues/21755 */\n",
       "  display: inline-block !important;\n",
       "  position: relative;\n",
       "}\n",
       "\n",
       "#sk-container-id-2 div.sk-text-repr-fallback {\n",
       "  display: none;\n",
       "}\n",
       "\n",
       "div.sk-parallel-item,\n",
       "div.sk-serial,\n",
       "div.sk-item {\n",
       "  /* draw centered vertical line to link estimators */\n",
       "  background-image: linear-gradient(var(--sklearn-color-text-on-default-background), var(--sklearn-color-text-on-default-background));\n",
       "  background-size: 2px 100%;\n",
       "  background-repeat: no-repeat;\n",
       "  background-position: center center;\n",
       "}\n",
       "\n",
       "/* Parallel-specific style estimator block */\n",
       "\n",
       "#sk-container-id-2 div.sk-parallel-item::after {\n",
       "  content: \"\";\n",
       "  width: 100%;\n",
       "  border-bottom: 2px solid var(--sklearn-color-text-on-default-background);\n",
       "  flex-grow: 1;\n",
       "}\n",
       "\n",
       "#sk-container-id-2 div.sk-parallel {\n",
       "  display: flex;\n",
       "  align-items: stretch;\n",
       "  justify-content: center;\n",
       "  background-color: var(--sklearn-color-background);\n",
       "  position: relative;\n",
       "}\n",
       "\n",
       "#sk-container-id-2 div.sk-parallel-item {\n",
       "  display: flex;\n",
       "  flex-direction: column;\n",
       "}\n",
       "\n",
       "#sk-container-id-2 div.sk-parallel-item:first-child::after {\n",
       "  align-self: flex-end;\n",
       "  width: 50%;\n",
       "}\n",
       "\n",
       "#sk-container-id-2 div.sk-parallel-item:last-child::after {\n",
       "  align-self: flex-start;\n",
       "  width: 50%;\n",
       "}\n",
       "\n",
       "#sk-container-id-2 div.sk-parallel-item:only-child::after {\n",
       "  width: 0;\n",
       "}\n",
       "\n",
       "/* Serial-specific style estimator block */\n",
       "\n",
       "#sk-container-id-2 div.sk-serial {\n",
       "  display: flex;\n",
       "  flex-direction: column;\n",
       "  align-items: center;\n",
       "  background-color: var(--sklearn-color-background);\n",
       "  padding-right: 1em;\n",
       "  padding-left: 1em;\n",
       "}\n",
       "\n",
       "\n",
       "/* Toggleable style: style used for estimator/Pipeline/ColumnTransformer box that is\n",
       "clickable and can be expanded/collapsed.\n",
       "- Pipeline and ColumnTransformer use this feature and define the default style\n",
       "- Estimators will overwrite some part of the style using the `sk-estimator` class\n",
       "*/\n",
       "\n",
       "/* Pipeline and ColumnTransformer style (default) */\n",
       "\n",
       "#sk-container-id-2 div.sk-toggleable {\n",
       "  /* Default theme specific background. It is overwritten whether we have a\n",
       "  specific estimator or a Pipeline/ColumnTransformer */\n",
       "  background-color: var(--sklearn-color-background);\n",
       "}\n",
       "\n",
       "/* Toggleable label */\n",
       "#sk-container-id-2 label.sk-toggleable__label {\n",
       "  cursor: pointer;\n",
       "  display: block;\n",
       "  width: 100%;\n",
       "  margin-bottom: 0;\n",
       "  padding: 0.5em;\n",
       "  box-sizing: border-box;\n",
       "  text-align: center;\n",
       "}\n",
       "\n",
       "#sk-container-id-2 label.sk-toggleable__label-arrow:before {\n",
       "  /* Arrow on the left of the label */\n",
       "  content: \"▸\";\n",
       "  float: left;\n",
       "  margin-right: 0.25em;\n",
       "  color: var(--sklearn-color-icon);\n",
       "}\n",
       "\n",
       "#sk-container-id-2 label.sk-toggleable__label-arrow:hover:before {\n",
       "  color: var(--sklearn-color-text);\n",
       "}\n",
       "\n",
       "/* Toggleable content - dropdown */\n",
       "\n",
       "#sk-container-id-2 div.sk-toggleable__content {\n",
       "  max-height: 0;\n",
       "  max-width: 0;\n",
       "  overflow: hidden;\n",
       "  text-align: left;\n",
       "  /* unfitted */\n",
       "  background-color: var(--sklearn-color-unfitted-level-0);\n",
       "}\n",
       "\n",
       "#sk-container-id-2 div.sk-toggleable__content.fitted {\n",
       "  /* fitted */\n",
       "  background-color: var(--sklearn-color-fitted-level-0);\n",
       "}\n",
       "\n",
       "#sk-container-id-2 div.sk-toggleable__content pre {\n",
       "  margin: 0.2em;\n",
       "  border-radius: 0.25em;\n",
       "  color: var(--sklearn-color-text);\n",
       "  /* unfitted */\n",
       "  background-color: var(--sklearn-color-unfitted-level-0);\n",
       "}\n",
       "\n",
       "#sk-container-id-2 div.sk-toggleable__content.fitted pre {\n",
       "  /* unfitted */\n",
       "  background-color: var(--sklearn-color-fitted-level-0);\n",
       "}\n",
       "\n",
       "#sk-container-id-2 input.sk-toggleable__control:checked~div.sk-toggleable__content {\n",
       "  /* Expand drop-down */\n",
       "  max-height: 200px;\n",
       "  max-width: 100%;\n",
       "  overflow: auto;\n",
       "}\n",
       "\n",
       "#sk-container-id-2 input.sk-toggleable__control:checked~label.sk-toggleable__label-arrow:before {\n",
       "  content: \"▾\";\n",
       "}\n",
       "\n",
       "/* Pipeline/ColumnTransformer-specific style */\n",
       "\n",
       "#sk-container-id-2 div.sk-label input.sk-toggleable__control:checked~label.sk-toggleable__label {\n",
       "  color: var(--sklearn-color-text);\n",
       "  background-color: var(--sklearn-color-unfitted-level-2);\n",
       "}\n",
       "\n",
       "#sk-container-id-2 div.sk-label.fitted input.sk-toggleable__control:checked~label.sk-toggleable__label {\n",
       "  background-color: var(--sklearn-color-fitted-level-2);\n",
       "}\n",
       "\n",
       "/* Estimator-specific style */\n",
       "\n",
       "/* Colorize estimator box */\n",
       "#sk-container-id-2 div.sk-estimator input.sk-toggleable__control:checked~label.sk-toggleable__label {\n",
       "  /* unfitted */\n",
       "  background-color: var(--sklearn-color-unfitted-level-2);\n",
       "}\n",
       "\n",
       "#sk-container-id-2 div.sk-estimator.fitted input.sk-toggleable__control:checked~label.sk-toggleable__label {\n",
       "  /* fitted */\n",
       "  background-color: var(--sklearn-color-fitted-level-2);\n",
       "}\n",
       "\n",
       "#sk-container-id-2 div.sk-label label.sk-toggleable__label,\n",
       "#sk-container-id-2 div.sk-label label {\n",
       "  /* The background is the default theme color */\n",
       "  color: var(--sklearn-color-text-on-default-background);\n",
       "}\n",
       "\n",
       "/* On hover, darken the color of the background */\n",
       "#sk-container-id-2 div.sk-label:hover label.sk-toggleable__label {\n",
       "  color: var(--sklearn-color-text);\n",
       "  background-color: var(--sklearn-color-unfitted-level-2);\n",
       "}\n",
       "\n",
       "/* Label box, darken color on hover, fitted */\n",
       "#sk-container-id-2 div.sk-label.fitted:hover label.sk-toggleable__label.fitted {\n",
       "  color: var(--sklearn-color-text);\n",
       "  background-color: var(--sklearn-color-fitted-level-2);\n",
       "}\n",
       "\n",
       "/* Estimator label */\n",
       "\n",
       "#sk-container-id-2 div.sk-label label {\n",
       "  font-family: monospace;\n",
       "  font-weight: bold;\n",
       "  display: inline-block;\n",
       "  line-height: 1.2em;\n",
       "}\n",
       "\n",
       "#sk-container-id-2 div.sk-label-container {\n",
       "  text-align: center;\n",
       "}\n",
       "\n",
       "/* Estimator-specific */\n",
       "#sk-container-id-2 div.sk-estimator {\n",
       "  font-family: monospace;\n",
       "  border: 1px dotted var(--sklearn-color-border-box);\n",
       "  border-radius: 0.25em;\n",
       "  box-sizing: border-box;\n",
       "  margin-bottom: 0.5em;\n",
       "  /* unfitted */\n",
       "  background-color: var(--sklearn-color-unfitted-level-0);\n",
       "}\n",
       "\n",
       "#sk-container-id-2 div.sk-estimator.fitted {\n",
       "  /* fitted */\n",
       "  background-color: var(--sklearn-color-fitted-level-0);\n",
       "}\n",
       "\n",
       "/* on hover */\n",
       "#sk-container-id-2 div.sk-estimator:hover {\n",
       "  /* unfitted */\n",
       "  background-color: var(--sklearn-color-unfitted-level-2);\n",
       "}\n",
       "\n",
       "#sk-container-id-2 div.sk-estimator.fitted:hover {\n",
       "  /* fitted */\n",
       "  background-color: var(--sklearn-color-fitted-level-2);\n",
       "}\n",
       "\n",
       "/* Specification for estimator info (e.g. \"i\" and \"?\") */\n",
       "\n",
       "/* Common style for \"i\" and \"?\" */\n",
       "\n",
       ".sk-estimator-doc-link,\n",
       "a:link.sk-estimator-doc-link,\n",
       "a:visited.sk-estimator-doc-link {\n",
       "  float: right;\n",
       "  font-size: smaller;\n",
       "  line-height: 1em;\n",
       "  font-family: monospace;\n",
       "  background-color: var(--sklearn-color-background);\n",
       "  border-radius: 1em;\n",
       "  height: 1em;\n",
       "  width: 1em;\n",
       "  text-decoration: none !important;\n",
       "  margin-left: 1ex;\n",
       "  /* unfitted */\n",
       "  border: var(--sklearn-color-unfitted-level-1) 1pt solid;\n",
       "  color: var(--sklearn-color-unfitted-level-1);\n",
       "}\n",
       "\n",
       ".sk-estimator-doc-link.fitted,\n",
       "a:link.sk-estimator-doc-link.fitted,\n",
       "a:visited.sk-estimator-doc-link.fitted {\n",
       "  /* fitted */\n",
       "  border: var(--sklearn-color-fitted-level-1) 1pt solid;\n",
       "  color: var(--sklearn-color-fitted-level-1);\n",
       "}\n",
       "\n",
       "/* On hover */\n",
       "div.sk-estimator:hover .sk-estimator-doc-link:hover,\n",
       ".sk-estimator-doc-link:hover,\n",
       "div.sk-label-container:hover .sk-estimator-doc-link:hover,\n",
       ".sk-estimator-doc-link:hover {\n",
       "  /* unfitted */\n",
       "  background-color: var(--sklearn-color-unfitted-level-3);\n",
       "  color: var(--sklearn-color-background);\n",
       "  text-decoration: none;\n",
       "}\n",
       "\n",
       "div.sk-estimator.fitted:hover .sk-estimator-doc-link.fitted:hover,\n",
       ".sk-estimator-doc-link.fitted:hover,\n",
       "div.sk-label-container:hover .sk-estimator-doc-link.fitted:hover,\n",
       ".sk-estimator-doc-link.fitted:hover {\n",
       "  /* fitted */\n",
       "  background-color: var(--sklearn-color-fitted-level-3);\n",
       "  color: var(--sklearn-color-background);\n",
       "  text-decoration: none;\n",
       "}\n",
       "\n",
       "/* Span, style for the box shown on hovering the info icon */\n",
       ".sk-estimator-doc-link span {\n",
       "  display: none;\n",
       "  z-index: 9999;\n",
       "  position: relative;\n",
       "  font-weight: normal;\n",
       "  right: .2ex;\n",
       "  padding: .5ex;\n",
       "  margin: .5ex;\n",
       "  width: min-content;\n",
       "  min-width: 20ex;\n",
       "  max-width: 50ex;\n",
       "  color: var(--sklearn-color-text);\n",
       "  box-shadow: 2pt 2pt 4pt #999;\n",
       "  /* unfitted */\n",
       "  background: var(--sklearn-color-unfitted-level-0);\n",
       "  border: .5pt solid var(--sklearn-color-unfitted-level-3);\n",
       "}\n",
       "\n",
       ".sk-estimator-doc-link.fitted span {\n",
       "  /* fitted */\n",
       "  background: var(--sklearn-color-fitted-level-0);\n",
       "  border: var(--sklearn-color-fitted-level-3);\n",
       "}\n",
       "\n",
       ".sk-estimator-doc-link:hover span {\n",
       "  display: block;\n",
       "}\n",
       "\n",
       "/* \"?\"-specific style due to the `<a>` HTML tag */\n",
       "\n",
       "#sk-container-id-2 a.estimator_doc_link {\n",
       "  float: right;\n",
       "  font-size: 1rem;\n",
       "  line-height: 1em;\n",
       "  font-family: monospace;\n",
       "  background-color: var(--sklearn-color-background);\n",
       "  border-radius: 1rem;\n",
       "  height: 1rem;\n",
       "  width: 1rem;\n",
       "  text-decoration: none;\n",
       "  /* unfitted */\n",
       "  color: var(--sklearn-color-unfitted-level-1);\n",
       "  border: var(--sklearn-color-unfitted-level-1) 1pt solid;\n",
       "}\n",
       "\n",
       "#sk-container-id-2 a.estimator_doc_link.fitted {\n",
       "  /* fitted */\n",
       "  border: var(--sklearn-color-fitted-level-1) 1pt solid;\n",
       "  color: var(--sklearn-color-fitted-level-1);\n",
       "}\n",
       "\n",
       "/* On hover */\n",
       "#sk-container-id-2 a.estimator_doc_link:hover {\n",
       "  /* unfitted */\n",
       "  background-color: var(--sklearn-color-unfitted-level-3);\n",
       "  color: var(--sklearn-color-background);\n",
       "  text-decoration: none;\n",
       "}\n",
       "\n",
       "#sk-container-id-2 a.estimator_doc_link.fitted:hover {\n",
       "  /* fitted */\n",
       "  background-color: var(--sklearn-color-fitted-level-3);\n",
       "}\n",
       "</style><div id=\"sk-container-id-2\" class=\"sk-top-container\"><div class=\"sk-text-repr-fallback\"><pre>GridSearchCV(estimator=SVC(kernel=&#x27;poly&#x27;, random_state=42), n_jobs=-1,\n",
       "             param_grid={&#x27;C&#x27;: [1, 5, 10, 15], &#x27;degree&#x27;: [1, 3, 6]})</pre><b>In a Jupyter environment, please rerun this cell to show the HTML representation or trust the notebook. <br />On GitHub, the HTML representation is unable to render, please try loading this page with nbviewer.org.</b></div><div class=\"sk-container\" hidden><div class=\"sk-item sk-dashed-wrapped\"><div class=\"sk-label-container\"><div class=\"sk-label fitted sk-toggleable\"><input class=\"sk-toggleable__control sk-hidden--visually\" id=\"sk-estimator-id-2\" type=\"checkbox\" ><label for=\"sk-estimator-id-2\" class=\"sk-toggleable__label fitted sk-toggleable__label-arrow fitted\">&nbsp;&nbsp;GridSearchCV<a class=\"sk-estimator-doc-link fitted\" rel=\"noreferrer\" target=\"_blank\" href=\"https://scikit-learn.org/1.5/modules/generated/sklearn.model_selection.GridSearchCV.html\">?<span>Documentation for GridSearchCV</span></a><span class=\"sk-estimator-doc-link fitted\">i<span>Fitted</span></span></label><div class=\"sk-toggleable__content fitted\"><pre>GridSearchCV(estimator=SVC(kernel=&#x27;poly&#x27;, random_state=42), n_jobs=-1,\n",
       "             param_grid={&#x27;C&#x27;: [1, 5, 10, 15], &#x27;degree&#x27;: [1, 3, 6]})</pre></div> </div></div><div class=\"sk-parallel\"><div class=\"sk-parallel-item\"><div class=\"sk-item\"><div class=\"sk-label-container\"><div class=\"sk-label fitted sk-toggleable\"><input class=\"sk-toggleable__control sk-hidden--visually\" id=\"sk-estimator-id-3\" type=\"checkbox\" ><label for=\"sk-estimator-id-3\" class=\"sk-toggleable__label fitted sk-toggleable__label-arrow fitted\">best_estimator_: SVC</label><div class=\"sk-toggleable__content fitted\"><pre>SVC(C=15, degree=1, kernel=&#x27;poly&#x27;, random_state=42)</pre></div> </div></div><div class=\"sk-serial\"><div class=\"sk-item\"><div class=\"sk-estimator fitted sk-toggleable\"><input class=\"sk-toggleable__control sk-hidden--visually\" id=\"sk-estimator-id-4\" type=\"checkbox\" ><label for=\"sk-estimator-id-4\" class=\"sk-toggleable__label fitted sk-toggleable__label-arrow fitted\">&nbsp;SVC<a class=\"sk-estimator-doc-link fitted\" rel=\"noreferrer\" target=\"_blank\" href=\"https://scikit-learn.org/1.5/modules/generated/sklearn.svm.SVC.html\">?<span>Documentation for SVC</span></a></label><div class=\"sk-toggleable__content fitted\"><pre>SVC(C=15, degree=1, kernel=&#x27;poly&#x27;, random_state=42)</pre></div> </div></div></div></div></div></div></div></div></div>"
      ],
      "text/plain": [
       "GridSearchCV(estimator=SVC(kernel='poly', random_state=42), n_jobs=-1,\n",
       "             param_grid={'C': [1, 5, 10, 15], 'degree': [1, 3, 6]})"
      ]
     },
     "execution_count": 119,
     "metadata": {},
     "output_type": "execute_result"
    }
   ],
   "source": [
    "svc = SVC(kernel = \"poly\", random_state = 42)\n",
    "params = {'C':[1, 5, 10, 15], \"degree\": [1, 3, 6]}\n",
    "gs = GridSearchCV(svc, params, n_jobs=-1)\n",
    "gs.fit(train_reduced, train_raw[\"label\"])"
   ]
  },
  {
   "cell_type": "code",
   "execution_count": 120,
   "id": "49b822ae-51b6-4372-b6e4-ef8d0183362c",
   "metadata": {},
   "outputs": [
    {
     "name": "stdout",
     "output_type": "stream",
     "text": [
      "0.9493394969958582\n",
      "{'C': 15, 'degree': 1}\n"
     ]
    }
   ],
   "source": [
    "print(gs.best_score_)\n",
    "print(gs.best_params_)"
   ]
  },
  {
   "cell_type": "markdown",
   "id": "cb6b0513-a0b9-4957-9adc-cc48272ba551",
   "metadata": {},
   "source": [
    "These are the results of the best model tested, and its results are also pretty good. let's see so how the model performs when its trained on the entire training database."
   ]
  },
  {
   "cell_type": "code",
   "execution_count": 124,
   "id": "9b3498c0-01bb-4495-afc2-450fb265e7fa",
   "metadata": {},
   "outputs": [
    {
     "name": "stdout",
     "output_type": "stream",
     "text": [
      "              precision    recall  f1-score   support\n",
      "\n",
      "           0       0.94      0.95      0.95      1962\n",
      "           1       0.95      0.95      0.95      2136\n",
      "\n",
      "    accuracy                           0.95      4098\n",
      "   macro avg       0.95      0.95      0.95      4098\n",
      "weighted avg       0.95      0.95      0.95      4098\n",
      "\n"
     ]
    }
   ],
   "source": [
    "#train the model\n",
    "svc = SVC(kernel = \"poly\", random_state = 42, C = 15, degree = 1)\n",
    "svc.fit(train_reduced, train_raw[\"label\"])\n",
    "#predict labels for our test data\n",
    "test_pred = svc.predict(test_reduced)\n",
    "print(classification_report(test_raw[\"label\"], test_pred))"
   ]
  },
  {
   "cell_type": "markdown",
   "id": "6022cb02-84c6-47fb-a0bd-94cf76df8c7f",
   "metadata": {},
   "source": [
    "Just a hair less impressive than our random forest model, but still very good. Our 20-feature dataset produced a model that is right 19 times out of 20, and the model itself is a simple 1-dimensional SVM.<br>\n",
    "## 5c:  Using a dummy classifier to predict fake news stories\n",
    "Let's quickly perform a control test using a dummy classifier, just to make sure the data isn't skewed in some way. A dummy classifier is a model that always predicts the most common label in its training data. This mimics a particularly bad model, and is very useful for making sure that your data doesn't overly favor one label. A model that's 95% accurate isn't very good if it turns out that 90% of the data is all the same class."
   ]
  },
  {
   "cell_type": "code",
   "execution_count": 126,
   "id": "f3532e95-682f-424f-8634-2c08e50a4445",
   "metadata": {},
   "outputs": [
    {
     "name": "stdout",
     "output_type": "stream",
     "text": [
      "              precision    recall  f1-score   support\n",
      "\n",
      "           0       0.00      0.00      0.00      1962\n",
      "           1       0.52      1.00      0.69      2136\n",
      "\n",
      "    accuracy                           0.52      4098\n",
      "   macro avg       0.26      0.50      0.34      4098\n",
      "weighted avg       0.27      0.52      0.36      4098\n",
      "\n"
     ]
    },
    {
     "name": "stderr",
     "output_type": "stream",
     "text": [
      "/home/userp/.local/lib/python3.10/site-packages/sklearn/metrics/_classification.py:1517: UndefinedMetricWarning: Precision is ill-defined and being set to 0.0 in labels with no predicted samples. Use `zero_division` parameter to control this behavior.\n",
      "  _warn_prf(average, modifier, f\"{metric.capitalize()} is\", len(result))\n",
      "/home/userp/.local/lib/python3.10/site-packages/sklearn/metrics/_classification.py:1517: UndefinedMetricWarning: Precision is ill-defined and being set to 0.0 in labels with no predicted samples. Use `zero_division` parameter to control this behavior.\n",
      "  _warn_prf(average, modifier, f\"{metric.capitalize()} is\", len(result))\n",
      "/home/userp/.local/lib/python3.10/site-packages/sklearn/metrics/_classification.py:1517: UndefinedMetricWarning: Precision is ill-defined and being set to 0.0 in labels with no predicted samples. Use `zero_division` parameter to control this behavior.\n",
      "  _warn_prf(average, modifier, f\"{metric.capitalize()} is\", len(result))\n"
     ]
    }
   ],
   "source": [
    "dc = DummyClassifier()\n",
    "dc.fit(train_reduced, train_raw[\"label\"])\n",
    "test_pred = dc.predict(test_reduced)\n",
    "print(classification_report(test_raw[\"label\"], test_pred))"
   ]
  },
  {
   "cell_type": "markdown",
   "id": "69cdfc08-c8e5-4673-87cb-49bc445e0000",
   "metadata": {},
   "source": [
    "Since our training data (and our data as a whole) has slightly more true articles than fake articles, the classifier simply guessed true (1) for every article. This gives us an overall accuracy of 52%, which suggests that our real models (and the data they were trained on) is actually performing well!\n",
    "# Step 6: Visualization and Conclusion\n",
    "Overall, I hope this was able to demonstrate the potential of using a graph representation of text for classification. Even by using a simple metric (degree) from a simple graph type (sequential), it produced features powerful enough to train even a simple model to classify text quickly and accurately. In a real-world scenario, I would reccommend generating and saving the graph, the training data matrix, and the PCA model. If you were to hook this up to a webpage you would only need the graph and the PCA model. However, since the training data matrix takes a long time to generate and is relatively small (ours was 137mb) its worth saving if you want to tweak your dimensionality reduction method.<br>\n",
    "Thank you for reading, and I hope you learned something!"
   ]
  },
  {
   "cell_type": "code",
   "execution_count": 156,
   "id": "fc9e668d-45c6-4ea1-9a5e-837e3dfd4207",
   "metadata": {},
   "outputs": [
    {
     "data": {
      "image/png": "[encoded data removed]",
      "text/plain": [
       "<Figure size 500x400 with 1 Axes>"
      ]
     },
     "metadata": {},
     "output_type": "display_data"
    }
   ],
   "source": [
    "results = {\"random forest\": .96, \"SVC\": .95, \"dummy (control)\": .52}\n",
    "plt.figure(figsize=(5, 4))\n",
    "plt.bar(results.keys(), results.values(), color = \"darkorange\", width = .6)\n",
    "plt.title(\"Accuracy of Various Classifiers using TGNLP Network Data.\")\n",
    "# This portion is off SO\n",
    "rects = plt.gca().patches\n",
    "for rect, label in zip(rects, results.values()):\n",
    "    height = rect.get_height()\n",
    "    plt.gca().text(\n",
    "        rect.get_x() + rect.get_width() / 2, height, label, ha=\"center\", va=\"bottom\"\n",
    "    )\n",
    "plt.savefig(\"final-results-vis.png\")\n",
    "plt.show()"
   ]
  }
 ],
 "metadata": {
  "kernelspec": {
   "display_name": "Python 3 (ipykernel)",
   "language": "python",
   "name": "python3"
  },
  "language_info": {
   "codemirror_mode": {
    "name": "ipython",
    "version": 3
   },
   "file_extension": ".py",
   "mimetype": "text/x-python",
   "name": "python",
   "nbconvert_exporter": "python",
   "pygments_lexer": "ipython3",
   "version": "3.10.12"
  }
 },
 "nbformat": 4,
 "nbformat_minor": 5
}
